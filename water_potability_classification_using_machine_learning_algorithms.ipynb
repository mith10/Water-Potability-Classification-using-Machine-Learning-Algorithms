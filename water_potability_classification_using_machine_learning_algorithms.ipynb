{
  "cells": [
    {
      "cell_type": "markdown",
      "source": [
        "# <center> Water Quality </center>\n"
      ],
      "metadata": {
        "id": "VNoiCb4_WAvg"
      }
    },
    {
      "cell_type": "markdown",
      "source": [
        "<center> <img src=\"https://media.istockphoto.com/photos/analyzing-samples-picture-id182188515?k=6&m=182188515&s=612x612&w=0&h=Hcjly5YZGs4tFxPmD6Q-hbCKcoGFU-JIPT8qLaYDUOQ=\"> </center>\n"
      ],
      "metadata": {
        "id": "KqEGro95WDtq"
      }
    },
    {
      "cell_type": "markdown",
      "source": [
        "## About dataset\n",
        "\n",
        "#### Content\n",
        "The water_potability.csv file contains water quality metrics for 3276 different water bodies.\n",
        "\n",
        "**1. pH value:**\n",
        "PH is an important parameter in evaluating the acid–base balance of water. It is also the indicator of acidic or alkaline condition of water status.\n",
        "WHO has recommended maximum permissible limit of pH from 6.5 to 8.5. The current investigation ranges were 6.52–6.83 which are in the range of WHO standards.\n",
        "\n",
        "**2. Hardness:**\n",
        "Hardness is mainly caused by calcium and magnesium salts. These salts are dissolved from geologic deposits through which water travels. The length of time water is in contact with hardness producing material helps determine how much hardness there is in raw water. Hardness was originally defined as the capacity of water to precipitate soap caused by Calcium and Magnesium.\n",
        "\n",
        "**3. Solids (Total dissolved solids - TDS):**\n",
        "Water has the ability to dissolve a wide range of inorganic and some organic minerals or salts such as potassium, calcium, sodium, bicarbonates, chlorides, magnesium, sulfates etc. These minerals produced un-wanted taste and diluted color in appearance of water. This is the important parameter for the use of water. The water with high TDS value indicates that water is highly mineralized. Desirable limit for TDS is 500 mg/l and maximum limit is 1000 mg/l which prescribed for drinking purpose.\n",
        "\n",
        "**4. Chloramines:**\n",
        "Chlorine and chloramine are the major disinfectants used in public water systems. Chloramines are most commonly formed when ammonia is added to chlorine to treat drinking water. Chlorine levels up to 4 milligrams per liter (mg/L or 4 parts per million (ppm)) are considered safe in drinking water.\n",
        "\n",
        "**5. Sulfate:**\n",
        "Sulfates are naturally occurring substances that are found in minerals, soil, and rocks. They are present in ambient air, groundwater, plants, and food. The principal commercial use of sulfate is in the chemical industry. Sulfate concentration in seawater is about 2,700 milligrams per liter (mg/L). It ranges from 3 to 30 mg/L in most freshwater supplies, although much higher concentrations (1000 mg/L) are found in some geographic locations.\n",
        "\n",
        "**6. Conductivity:**\n",
        "Pure water is not a good conductor of electric current rather’s a good insulator. Increase in ions concentration enhances the electrical conductivity of water. Generally, the amount of dissolved solids in water determines the electrical conductivity. Electrical conductivity (EC) actually measures the ionic process of a solution that enables it to transmit current. According to WHO standards, EC value should not exceeded 400 μS/cm.\n",
        "\n",
        "**7. Organic_carbon:**\n",
        "Total Organic Carbon (TOC) in source waters comes from decaying natural organic matter (NOM) as well as synthetic sources. TOC is a measure of the total amount of carbon in organic compounds in pure water. According to US EPA < 2 mg/L as TOC in treated / drinking water, and < 4 mg/Lit in source water which is use for treatment.\n",
        "\n",
        "**8. Trihalomethanes:**\n",
        "THMs are chemicals which may be found in water treated with chlorine. The concentration of THMs in drinking water varies according to the level of organic material in the water, the amount of chlorine required to treat the water, and the temperature of the water that is being treated. THM levels up to 80 ppm is considered safe in drinking water.\n",
        "\n",
        "**9. Turbidity:**\n",
        "The turbidity of water depends on the quantity of solid matter present in the suspended state. It is a measure of light emitting properties of water and the test is used to indicate the quality of waste discharge with respect to colloidal matter. The mean turbidity value obtained for Wondo Genet Campus (0.98 NTU) is lower than the WHO recommended value of 5.00 NTU.\n",
        "\n",
        "**10. Potability:**\n",
        "Indicates if water is safe for human consumption where 1 means Potable and 0 means Not potable.\n"
      ],
      "metadata": {
        "id": "DXZK-Jv7WPas"
      }
    },
    {
      "cell_type": "markdown",
      "source": [],
      "metadata": {
        "id": "IV72NsP5WRnt"
      }
    },
    {
      "cell_type": "code",
      "source": [],
      "metadata": {
        "id": "UkK2rklmX6aj"
      },
      "execution_count": null,
      "outputs": []
    },
    {
      "cell_type": "markdown",
      "source": [
        "##Title: Water Potability Classification using Machine Learning Algorithms\n",
        "\n",
        "**Introduction:**\n",
        "\n",
        "In this Colab notebook, we will explore the water potability dataset and classify water samples as potable or non-potable using various machine learning algorithms. The dataset consists of 10 features, including pH, hardness, solids, chloramines, sulfate, conductivity, organic carbon, trihalomethanes, and turbidity. By the end of this notebook, you will have a better understanding of how to preprocess data, handle imbalanced datasets, and apply machine learning algorithms to classify water potability.\n",
        "\n",
        "Table of Contents:\n",
        "\n",
        "1.   Data Import and Preprocessing\n",
        "2.   Handling Imbalanced Datasets\n",
        "3.   Feature Scaling\n",
        "4.   Machine Learning Algorithms\n",
        "5.   Model Evaluation and Comparison\n",
        "\n",
        "\n",
        "\n",
        "\n"
      ],
      "metadata": {
        "id": "JeP20-QZX3uL"
      }
    },
    {
      "cell_type": "markdown",
      "source": [
        "Data Import and Preprocessing:\n",
        "\n",
        "We begin by importing the necessary libraries and loading the water potability dataset. We then provide some basic information about the dataset, such as its shape, data types, and missing values."
      ],
      "metadata": {
        "id": "ZbdvbNDjYi1V"
      }
    },
    {
      "cell_type": "code",
      "execution_count": null,
      "metadata": {
        "id": "ynZRMGeex25J"
      },
      "outputs": [],
      "source": [
        "import pandas as pd\n",
        "import numpy as np\n",
        "from sklearn.model_selection import train_test_split\n",
        "from sklearn.preprocessing import MinMaxScaler\n",
        "from sklearn.model_selection import cross_val_score\n",
        "from sklearn.ensemble import AdaBoostClassifier, BaggingClassifier, GradientBoostingClassifier, RandomForestClassifier\n",
        "from sklearn.tree import DecisionTreeClassifier\n",
        "from sklearn.neighbors import KNeighborsClassifier\n",
        "from sklearn.model_selection import GridSearchCV\n",
        "from imblearn.over_sampling import SMOTE\n",
        "\n",
        "from collections import Counter as ctr"
      ]
    },
    {
      "cell_type": "code",
      "source": [
        "from google.colab import drive\n",
        "drive.mount('/content/drive')"
      ],
      "metadata": {
        "colab": {
          "base_uri": "https://localhost:8080/"
        },
        "id": "IXFn8M6hnNyJ",
        "outputId": "03a61693-0097-44d4-996f-49b19752c8b8"
      },
      "execution_count": null,
      "outputs": [
        {
          "output_type": "stream",
          "name": "stdout",
          "text": [
            "Mounted at /content/drive\n"
          ]
        }
      ]
    },
    {
      "cell_type": "markdown",
      "source": [],
      "metadata": {
        "id": "q-NzZeo1m4cG"
      }
    },
    {
      "cell_type": "code",
      "execution_count": null,
      "metadata": {
        "colab": {
          "base_uri": "https://localhost:8080/"
        },
        "id": "Qt0haieEyH0m",
        "outputId": "074fcf9c-17ac-402f-fefe-cb5d5515280d"
      },
      "outputs": [
        {
          "output_type": "stream",
          "name": "stdout",
          "text": [
            "(3276, 10)\n"
          ]
        }
      ],
      "source": [
        "df = pd.read_csv(\"/content/drive/MyDrive/water_potability.csv\")\n",
        "print(df.shape)"
      ]
    },
    {
      "cell_type": "code",
      "execution_count": null,
      "metadata": {
        "colab": {
          "base_uri": "https://localhost:8080/"
        },
        "id": "7NOdiUZQyO0s",
        "outputId": "26e19367-ad87-4ee7-e160-980b2e88ab69"
      },
      "outputs": [
        {
          "output_type": "stream",
          "name": "stdout",
          "text": [
            "<class 'pandas.core.frame.DataFrame'>\n",
            "RangeIndex: 3276 entries, 0 to 3275\n",
            "Data columns (total 10 columns):\n",
            " #   Column           Non-Null Count  Dtype  \n",
            "---  ------           --------------  -----  \n",
            " 0   ph               2785 non-null   float64\n",
            " 1   Hardness         3276 non-null   float64\n",
            " 2   Solids           3276 non-null   float64\n",
            " 3   Chloramines      3276 non-null   float64\n",
            " 4   Sulfate          2495 non-null   float64\n",
            " 5   Conductivity     3276 non-null   float64\n",
            " 6   Organic_carbon   3276 non-null   float64\n",
            " 7   Trihalomethanes  3114 non-null   float64\n",
            " 8   Turbidity        3276 non-null   float64\n",
            " 9   Potability       3276 non-null   int64  \n",
            "dtypes: float64(9), int64(1)\n",
            "memory usage: 256.1 KB\n"
          ]
        }
      ],
      "source": [
        "df.info()"
      ]
    },
    {
      "cell_type": "code",
      "source": [
        "df.head()"
      ],
      "metadata": {
        "colab": {
          "base_uri": "https://localhost:8080/",
          "height": 206
        },
        "id": "tle9tWtr3QA1",
        "outputId": "6b131d98-dbd9-46e6-8325-0820c785805d"
      },
      "execution_count": null,
      "outputs": [
        {
          "output_type": "execute_result",
          "data": {
            "text/plain": [
              "         ph    Hardness        Solids  Chloramines     Sulfate  Conductivity  \\\n",
              "0       NaN  204.890455  20791.318981     7.300212  368.516441    564.308654   \n",
              "1  3.716080  129.422921  18630.057858     6.635246         NaN    592.885359   \n",
              "2  8.099124  224.236259  19909.541732     9.275884         NaN    418.606213   \n",
              "3  8.316766  214.373394  22018.417441     8.059332  356.886136    363.266516   \n",
              "4  9.092223  181.101509  17978.986339     6.546600  310.135738    398.410813   \n",
              "\n",
              "   Organic_carbon  Trihalomethanes  Turbidity  Potability  \n",
              "0       10.379783        86.990970   2.963135           0  \n",
              "1       15.180013        56.329076   4.500656           0  \n",
              "2       16.868637        66.420093   3.055934           0  \n",
              "3       18.436524       100.341674   4.628771           0  \n",
              "4       11.558279        31.997993   4.075075           0  "
            ],
            "text/html": [
              "\n",
              "  <div id=\"df-32e7f805-4f1a-4ed2-9755-589dd1584159\" class=\"colab-df-container\">\n",
              "    <div>\n",
              "<style scoped>\n",
              "    .dataframe tbody tr th:only-of-type {\n",
              "        vertical-align: middle;\n",
              "    }\n",
              "\n",
              "    .dataframe tbody tr th {\n",
              "        vertical-align: top;\n",
              "    }\n",
              "\n",
              "    .dataframe thead th {\n",
              "        text-align: right;\n",
              "    }\n",
              "</style>\n",
              "<table border=\"1\" class=\"dataframe\">\n",
              "  <thead>\n",
              "    <tr style=\"text-align: right;\">\n",
              "      <th></th>\n",
              "      <th>ph</th>\n",
              "      <th>Hardness</th>\n",
              "      <th>Solids</th>\n",
              "      <th>Chloramines</th>\n",
              "      <th>Sulfate</th>\n",
              "      <th>Conductivity</th>\n",
              "      <th>Organic_carbon</th>\n",
              "      <th>Trihalomethanes</th>\n",
              "      <th>Turbidity</th>\n",
              "      <th>Potability</th>\n",
              "    </tr>\n",
              "  </thead>\n",
              "  <tbody>\n",
              "    <tr>\n",
              "      <th>0</th>\n",
              "      <td>NaN</td>\n",
              "      <td>204.890455</td>\n",
              "      <td>20791.318981</td>\n",
              "      <td>7.300212</td>\n",
              "      <td>368.516441</td>\n",
              "      <td>564.308654</td>\n",
              "      <td>10.379783</td>\n",
              "      <td>86.990970</td>\n",
              "      <td>2.963135</td>\n",
              "      <td>0</td>\n",
              "    </tr>\n",
              "    <tr>\n",
              "      <th>1</th>\n",
              "      <td>3.716080</td>\n",
              "      <td>129.422921</td>\n",
              "      <td>18630.057858</td>\n",
              "      <td>6.635246</td>\n",
              "      <td>NaN</td>\n",
              "      <td>592.885359</td>\n",
              "      <td>15.180013</td>\n",
              "      <td>56.329076</td>\n",
              "      <td>4.500656</td>\n",
              "      <td>0</td>\n",
              "    </tr>\n",
              "    <tr>\n",
              "      <th>2</th>\n",
              "      <td>8.099124</td>\n",
              "      <td>224.236259</td>\n",
              "      <td>19909.541732</td>\n",
              "      <td>9.275884</td>\n",
              "      <td>NaN</td>\n",
              "      <td>418.606213</td>\n",
              "      <td>16.868637</td>\n",
              "      <td>66.420093</td>\n",
              "      <td>3.055934</td>\n",
              "      <td>0</td>\n",
              "    </tr>\n",
              "    <tr>\n",
              "      <th>3</th>\n",
              "      <td>8.316766</td>\n",
              "      <td>214.373394</td>\n",
              "      <td>22018.417441</td>\n",
              "      <td>8.059332</td>\n",
              "      <td>356.886136</td>\n",
              "      <td>363.266516</td>\n",
              "      <td>18.436524</td>\n",
              "      <td>100.341674</td>\n",
              "      <td>4.628771</td>\n",
              "      <td>0</td>\n",
              "    </tr>\n",
              "    <tr>\n",
              "      <th>4</th>\n",
              "      <td>9.092223</td>\n",
              "      <td>181.101509</td>\n",
              "      <td>17978.986339</td>\n",
              "      <td>6.546600</td>\n",
              "      <td>310.135738</td>\n",
              "      <td>398.410813</td>\n",
              "      <td>11.558279</td>\n",
              "      <td>31.997993</td>\n",
              "      <td>4.075075</td>\n",
              "      <td>0</td>\n",
              "    </tr>\n",
              "  </tbody>\n",
              "</table>\n",
              "</div>\n",
              "    <div class=\"colab-df-buttons\">\n",
              "\n",
              "  <div class=\"colab-df-container\">\n",
              "    <button class=\"colab-df-convert\" onclick=\"convertToInteractive('df-32e7f805-4f1a-4ed2-9755-589dd1584159')\"\n",
              "            title=\"Convert this dataframe to an interactive table.\"\n",
              "            style=\"display:none;\">\n",
              "\n",
              "  <svg xmlns=\"http://www.w3.org/2000/svg\" height=\"24px\" viewBox=\"0 -960 960 960\">\n",
              "    <path d=\"M120-120v-720h720v720H120Zm60-500h600v-160H180v160Zm220 220h160v-160H400v160Zm0 220h160v-160H400v160ZM180-400h160v-160H180v160Zm440 0h160v-160H620v160ZM180-180h160v-160H180v160Zm440 0h160v-160H620v160Z\"/>\n",
              "  </svg>\n",
              "    </button>\n",
              "\n",
              "  <style>\n",
              "    .colab-df-container {\n",
              "      display:flex;\n",
              "      gap: 12px;\n",
              "    }\n",
              "\n",
              "    .colab-df-convert {\n",
              "      background-color: #E8F0FE;\n",
              "      border: none;\n",
              "      border-radius: 50%;\n",
              "      cursor: pointer;\n",
              "      display: none;\n",
              "      fill: #1967D2;\n",
              "      height: 32px;\n",
              "      padding: 0 0 0 0;\n",
              "      width: 32px;\n",
              "    }\n",
              "\n",
              "    .colab-df-convert:hover {\n",
              "      background-color: #E2EBFA;\n",
              "      box-shadow: 0px 1px 2px rgba(60, 64, 67, 0.3), 0px 1px 3px 1px rgba(60, 64, 67, 0.15);\n",
              "      fill: #174EA6;\n",
              "    }\n",
              "\n",
              "    .colab-df-buttons div {\n",
              "      margin-bottom: 4px;\n",
              "    }\n",
              "\n",
              "    [theme=dark] .colab-df-convert {\n",
              "      background-color: #3B4455;\n",
              "      fill: #D2E3FC;\n",
              "    }\n",
              "\n",
              "    [theme=dark] .colab-df-convert:hover {\n",
              "      background-color: #434B5C;\n",
              "      box-shadow: 0px 1px 3px 1px rgba(0, 0, 0, 0.15);\n",
              "      filter: drop-shadow(0px 1px 2px rgba(0, 0, 0, 0.3));\n",
              "      fill: #FFFFFF;\n",
              "    }\n",
              "  </style>\n",
              "\n",
              "    <script>\n",
              "      const buttonEl =\n",
              "        document.querySelector('#df-32e7f805-4f1a-4ed2-9755-589dd1584159 button.colab-df-convert');\n",
              "      buttonEl.style.display =\n",
              "        google.colab.kernel.accessAllowed ? 'block' : 'none';\n",
              "\n",
              "      async function convertToInteractive(key) {\n",
              "        const element = document.querySelector('#df-32e7f805-4f1a-4ed2-9755-589dd1584159');\n",
              "        const dataTable =\n",
              "          await google.colab.kernel.invokeFunction('convertToInteractive',\n",
              "                                                    [key], {});\n",
              "        if (!dataTable) return;\n",
              "\n",
              "        const docLinkHtml = 'Like what you see? Visit the ' +\n",
              "          '<a target=\"_blank\" href=https://colab.research.google.com/notebooks/data_table.ipynb>data table notebook</a>'\n",
              "          + ' to learn more about interactive tables.';\n",
              "        element.innerHTML = '';\n",
              "        dataTable['output_type'] = 'display_data';\n",
              "        await google.colab.output.renderOutput(dataTable, element);\n",
              "        const docLink = document.createElement('div');\n",
              "        docLink.innerHTML = docLinkHtml;\n",
              "        element.appendChild(docLink);\n",
              "      }\n",
              "    </script>\n",
              "  </div>\n",
              "\n",
              "\n",
              "<div id=\"df-4bf1f7c3-8712-4ef4-b50d-12d6c73031e9\">\n",
              "  <button class=\"colab-df-quickchart\" onclick=\"quickchart('df-4bf1f7c3-8712-4ef4-b50d-12d6c73031e9')\"\n",
              "            title=\"Suggest charts\"\n",
              "            style=\"display:none;\">\n",
              "\n",
              "<svg xmlns=\"http://www.w3.org/2000/svg\" height=\"24px\"viewBox=\"0 0 24 24\"\n",
              "     width=\"24px\">\n",
              "    <g>\n",
              "        <path d=\"M19 3H5c-1.1 0-2 .9-2 2v14c0 1.1.9 2 2 2h14c1.1 0 2-.9 2-2V5c0-1.1-.9-2-2-2zM9 17H7v-7h2v7zm4 0h-2V7h2v10zm4 0h-2v-4h2v4z\"/>\n",
              "    </g>\n",
              "</svg>\n",
              "  </button>\n",
              "\n",
              "<style>\n",
              "  .colab-df-quickchart {\n",
              "      --bg-color: #E8F0FE;\n",
              "      --fill-color: #1967D2;\n",
              "      --hover-bg-color: #E2EBFA;\n",
              "      --hover-fill-color: #174EA6;\n",
              "      --disabled-fill-color: #AAA;\n",
              "      --disabled-bg-color: #DDD;\n",
              "  }\n",
              "\n",
              "  [theme=dark] .colab-df-quickchart {\n",
              "      --bg-color: #3B4455;\n",
              "      --fill-color: #D2E3FC;\n",
              "      --hover-bg-color: #434B5C;\n",
              "      --hover-fill-color: #FFFFFF;\n",
              "      --disabled-bg-color: #3B4455;\n",
              "      --disabled-fill-color: #666;\n",
              "  }\n",
              "\n",
              "  .colab-df-quickchart {\n",
              "    background-color: var(--bg-color);\n",
              "    border: none;\n",
              "    border-radius: 50%;\n",
              "    cursor: pointer;\n",
              "    display: none;\n",
              "    fill: var(--fill-color);\n",
              "    height: 32px;\n",
              "    padding: 0;\n",
              "    width: 32px;\n",
              "  }\n",
              "\n",
              "  .colab-df-quickchart:hover {\n",
              "    background-color: var(--hover-bg-color);\n",
              "    box-shadow: 0 1px 2px rgba(60, 64, 67, 0.3), 0 1px 3px 1px rgba(60, 64, 67, 0.15);\n",
              "    fill: var(--button-hover-fill-color);\n",
              "  }\n",
              "\n",
              "  .colab-df-quickchart-complete:disabled,\n",
              "  .colab-df-quickchart-complete:disabled:hover {\n",
              "    background-color: var(--disabled-bg-color);\n",
              "    fill: var(--disabled-fill-color);\n",
              "    box-shadow: none;\n",
              "  }\n",
              "\n",
              "  .colab-df-spinner {\n",
              "    border: 2px solid var(--fill-color);\n",
              "    border-color: transparent;\n",
              "    border-bottom-color: var(--fill-color);\n",
              "    animation:\n",
              "      spin 1s steps(1) infinite;\n",
              "  }\n",
              "\n",
              "  @keyframes spin {\n",
              "    0% {\n",
              "      border-color: transparent;\n",
              "      border-bottom-color: var(--fill-color);\n",
              "      border-left-color: var(--fill-color);\n",
              "    }\n",
              "    20% {\n",
              "      border-color: transparent;\n",
              "      border-left-color: var(--fill-color);\n",
              "      border-top-color: var(--fill-color);\n",
              "    }\n",
              "    30% {\n",
              "      border-color: transparent;\n",
              "      border-left-color: var(--fill-color);\n",
              "      border-top-color: var(--fill-color);\n",
              "      border-right-color: var(--fill-color);\n",
              "    }\n",
              "    40% {\n",
              "      border-color: transparent;\n",
              "      border-right-color: var(--fill-color);\n",
              "      border-top-color: var(--fill-color);\n",
              "    }\n",
              "    60% {\n",
              "      border-color: transparent;\n",
              "      border-right-color: var(--fill-color);\n",
              "    }\n",
              "    80% {\n",
              "      border-color: transparent;\n",
              "      border-right-color: var(--fill-color);\n",
              "      border-bottom-color: var(--fill-color);\n",
              "    }\n",
              "    90% {\n",
              "      border-color: transparent;\n",
              "      border-bottom-color: var(--fill-color);\n",
              "    }\n",
              "  }\n",
              "</style>\n",
              "\n",
              "  <script>\n",
              "    async function quickchart(key) {\n",
              "      const quickchartButtonEl =\n",
              "        document.querySelector('#' + key + ' button');\n",
              "      quickchartButtonEl.disabled = true;  // To prevent multiple clicks.\n",
              "      quickchartButtonEl.classList.add('colab-df-spinner');\n",
              "      try {\n",
              "        const charts = await google.colab.kernel.invokeFunction(\n",
              "            'suggestCharts', [key], {});\n",
              "      } catch (error) {\n",
              "        console.error('Error during call to suggestCharts:', error);\n",
              "      }\n",
              "      quickchartButtonEl.classList.remove('colab-df-spinner');\n",
              "      quickchartButtonEl.classList.add('colab-df-quickchart-complete');\n",
              "    }\n",
              "    (() => {\n",
              "      let quickchartButtonEl =\n",
              "        document.querySelector('#df-4bf1f7c3-8712-4ef4-b50d-12d6c73031e9 button');\n",
              "      quickchartButtonEl.style.display =\n",
              "        google.colab.kernel.accessAllowed ? 'block' : 'none';\n",
              "    })();\n",
              "  </script>\n",
              "</div>\n",
              "    </div>\n",
              "  </div>\n"
            ],
            "application/vnd.google.colaboratory.intrinsic+json": {
              "type": "dataframe",
              "variable_name": "df",
              "summary": "{\n  \"name\": \"df\",\n  \"rows\": 3276,\n  \"fields\": [\n    {\n      \"column\": \"ph\",\n      \"properties\": {\n        \"dtype\": \"number\",\n        \"std\": 1.5943195187088104,\n        \"min\": 0.0,\n        \"max\": 13.999999999999998,\n        \"num_unique_values\": 2785,\n        \"samples\": [\n          6.569053876389385,\n          9.271355446767778,\n          8.92790592593881\n        ],\n        \"semantic_type\": \"\",\n        \"description\": \"\"\n      }\n    },\n    {\n      \"column\": \"Hardness\",\n      \"properties\": {\n        \"dtype\": \"number\",\n        \"std\": 32.879761476294156,\n        \"min\": 47.432,\n        \"max\": 323.124,\n        \"num_unique_values\": 3276,\n        \"samples\": [\n          183.5211070261417,\n          188.9135411469536,\n          224.05887682392927\n        ],\n        \"semantic_type\": \"\",\n        \"description\": \"\"\n      }\n    },\n    {\n      \"column\": \"Solids\",\n      \"properties\": {\n        \"dtype\": \"number\",\n        \"std\": 8768.570827785927,\n        \"min\": 320.942611274359,\n        \"max\": 61227.19600771213,\n        \"num_unique_values\": 3276,\n        \"samples\": [\n          20461.252710219946,\n          32873.820021715685,\n          23264.10996772913\n        ],\n        \"semantic_type\": \"\",\n        \"description\": \"\"\n      }\n    },\n    {\n      \"column\": \"Chloramines\",\n      \"properties\": {\n        \"dtype\": \"number\",\n        \"std\": 1.5830848890397096,\n        \"min\": 0.3520000000000003,\n        \"max\": 13.127000000000002,\n        \"num_unique_values\": 3276,\n        \"samples\": [\n          7.333212177578906,\n          6.791509363412849,\n          5.92236704115349\n        ],\n        \"semantic_type\": \"\",\n        \"description\": \"\"\n      }\n    },\n    {\n      \"column\": \"Sulfate\",\n      \"properties\": {\n        \"dtype\": \"number\",\n        \"std\": 41.416840461672706,\n        \"min\": 129.00000000000003,\n        \"max\": 481.0306423059972,\n        \"num_unique_values\": 2495,\n        \"samples\": [\n          324.64407957923544,\n          370.121384654358,\n          329.12773842254506\n        ],\n        \"semantic_type\": \"\",\n        \"description\": \"\"\n      }\n    },\n    {\n      \"column\": \"Conductivity\",\n      \"properties\": {\n        \"dtype\": \"number\",\n        \"std\": 80.8240640511118,\n        \"min\": 181.483753985146,\n        \"max\": 753.3426195583046,\n        \"num_unique_values\": 3276,\n        \"samples\": [\n          356.3690224100897,\n          336.56150104700754,\n          387.971335796834\n        ],\n        \"semantic_type\": \"\",\n        \"description\": \"\"\n      }\n    },\n    {\n      \"column\": \"Organic_carbon\",\n      \"properties\": {\n        \"dtype\": \"number\",\n        \"std\": 3.308161999126874,\n        \"min\": 2.1999999999999886,\n        \"max\": 28.30000000000001,\n        \"num_unique_values\": 3276,\n        \"samples\": [\n          20.179028868493845,\n          14.706810313722087,\n          13.40673745495127\n        ],\n        \"semantic_type\": \"\",\n        \"description\": \"\"\n      }\n    },\n    {\n      \"column\": \"Trihalomethanes\",\n      \"properties\": {\n        \"dtype\": \"number\",\n        \"std\": 16.175008422218657,\n        \"min\": 0.7379999999999995,\n        \"max\": 124.0,\n        \"num_unique_values\": 3114,\n        \"samples\": [\n          66.163439242252,\n          42.844510851301166,\n          47.06639219544294\n        ],\n        \"semantic_type\": \"\",\n        \"description\": \"\"\n      }\n    },\n    {\n      \"column\": \"Turbidity\",\n      \"properties\": {\n        \"dtype\": \"number\",\n        \"std\": 0.7803824084854124,\n        \"min\": 1.45,\n        \"max\": 6.739,\n        \"num_unique_values\": 3276,\n        \"samples\": [\n          4.886633785371213,\n          4.562197671215202,\n          2.487968647002356\n        ],\n        \"semantic_type\": \"\",\n        \"description\": \"\"\n      }\n    },\n    {\n      \"column\": \"Potability\",\n      \"properties\": {\n        \"dtype\": \"number\",\n        \"std\": 0,\n        \"min\": 0,\n        \"max\": 1,\n        \"num_unique_values\": 2,\n        \"samples\": [\n          1,\n          0\n        ],\n        \"semantic_type\": \"\",\n        \"description\": \"\"\n      }\n    }\n  ]\n}"
            }
          },
          "metadata": {},
          "execution_count": 6
        }
      ]
    },
    {
      "cell_type": "code",
      "execution_count": null,
      "metadata": {
        "colab": {
          "base_uri": "https://localhost:8080/"
        },
        "id": "kJ6_TTbpyUkg",
        "outputId": "00f5aab5-f3ff-41ba-e671-cf1c0720e70a"
      },
      "outputs": [
        {
          "output_type": "execute_result",
          "data": {
            "text/plain": [
              "0"
            ]
          },
          "metadata": {},
          "execution_count": 7
        }
      ],
      "source": [
        "df.duplicated().sum()"
      ]
    },
    {
      "cell_type": "code",
      "execution_count": null,
      "metadata": {
        "colab": {
          "base_uri": "https://localhost:8080/"
        },
        "id": "hWKpC_voyYEC",
        "outputId": "1c73a0ea-3b0e-4e7c-e617-8b7a96df54f2"
      },
      "outputs": [
        {
          "output_type": "execute_result",
          "data": {
            "text/plain": [
              "ph                 491\n",
              "Hardness             0\n",
              "Solids               0\n",
              "Chloramines          0\n",
              "Sulfate            781\n",
              "Conductivity         0\n",
              "Organic_carbon       0\n",
              "Trihalomethanes    162\n",
              "Turbidity            0\n",
              "Potability           0\n",
              "dtype: int64"
            ]
          },
          "metadata": {},
          "execution_count": 8
        }
      ],
      "source": [
        "df.isnull().sum()"
      ]
    },
    {
      "cell_type": "code",
      "execution_count": null,
      "metadata": {
        "id": "Gn9Gc4hSyais"
      },
      "outputs": [],
      "source": [
        "df['ph']=df['ph'].fillna(df.groupby(['Potability'])['ph'].transform('mean'))\n",
        "df['Sulfate']=df['Sulfate'].fillna(df.groupby(['Potability'])['Sulfate'].transform('mean'))\n",
        "df['Trihalomethanes']=df['Trihalomethanes'].fillna(df.groupby(['Potability'])['Trihalomethanes'].transform('mean'))"
      ]
    },
    {
      "cell_type": "code",
      "execution_count": null,
      "metadata": {
        "id": "NdMvUM8JyqY4"
      },
      "outputs": [],
      "source": [
        "X = df.drop(columns = ['Potability'])\n",
        "y = df['Potability']"
      ]
    },
    {
      "cell_type": "markdown",
      "metadata": {
        "id": "zhZldP0A-f5U"
      },
      "source": [
        "smote (balancing the dataset)"
      ]
    },
    {
      "cell_type": "code",
      "execution_count": null,
      "metadata": {
        "colab": {
          "base_uri": "https://localhost:8080/"
        },
        "id": "EbWgnwUTFCq0",
        "outputId": "9deab5ae-4252-4697-8038-e487296645cf"
      },
      "outputs": [
        {
          "output_type": "execute_result",
          "data": {
            "text/plain": [
              "Counter({0: 1998, 1: 1278})"
            ]
          },
          "metadata": {},
          "execution_count": 11
        }
      ],
      "source": [
        "ctr(y)"
      ]
    },
    {
      "cell_type": "code",
      "execution_count": null,
      "metadata": {
        "id": "FTU8MwGZzSlU"
      },
      "outputs": [],
      "source": [
        "X_train, X_test, y_train, y_test = train_test_split(X, y, test_size = 0.2, random_state = 1, stratify = y)\n",
        "\n",
        "smote = SMOTE()\n",
        "X_train, y_train = smote.fit_resample(X_train, y_train)"
      ]
    },
    {
      "cell_type": "code",
      "execution_count": null,
      "metadata": {
        "colab": {
          "base_uri": "https://localhost:8080/"
        },
        "id": "H8WuJK_oFG9x",
        "outputId": "8c00549c-db3c-4db4-f5de-364fcd4db309"
      },
      "outputs": [
        {
          "output_type": "execute_result",
          "data": {
            "text/plain": [
              "Counter({0: 1598, 1: 1598})"
            ]
          },
          "metadata": {},
          "execution_count": 13
        }
      ],
      "source": [
        "ctr(y_train)"
      ]
    },
    {
      "cell_type": "markdown",
      "source": [
        "Feature Scaling:\n",
        "\n",
        "We will use the MinMaxScaler to scale our features to have values between 0 and 1. This is an essential step for some machine learning algorithms that are sensitive to the scale of the input features."
      ],
      "metadata": {
        "id": "MGbKV5ZNYtEv"
      }
    },
    {
      "cell_type": "code",
      "execution_count": null,
      "metadata": {
        "id": "5DqWQsWAzjrt"
      },
      "outputs": [],
      "source": [
        "MMScaler = MinMaxScaler()\n",
        "X_train = MMScaler.fit_transform(X_train)\n",
        "X_test = MMScaler.transform(X_test)"
      ]
    },
    {
      "cell_type": "markdown",
      "source": [
        "### Following are the list of algorithms that are used in this notebook.\n",
        "\n",
        "|    Algorithm         |\n",
        "| -------------------- |\n",
        "| Decision Tree|\n",
        "| Random Forest|\n",
        "| GradientBoostingClassifier|\n",
        "| KNeighbours|\n",
        "| BaggingClassifier|\n",
        "| AdaBoostClassifier|\n"
      ],
      "metadata": {
        "id": "aPOlzD2HWbTQ"
      }
    },
    {
      "cell_type": "markdown",
      "source": [
        "Model Evaluation and Comparison:\n",
        "\n",
        "We will compare the performance of each algorithm using cross-validation scores and present the results in a table."
      ],
      "metadata": {
        "id": "bldoZRNEYzn0"
      }
    },
    {
      "cell_type": "code",
      "execution_count": null,
      "metadata": {
        "colab": {
          "base_uri": "https://localhost:8080/",
          "height": 237
        },
        "id": "NEtuJG4X1CSZ",
        "outputId": "0edda40a-bb63-4f7d-e7e9-399e047fca07"
      },
      "outputs": [
        {
          "output_type": "execute_result",
          "data": {
            "text/plain": [
              "                          model  cv_score\n",
              "4        KNeighborsClassifier()  0.630798\n",
              "0          AdaBoostClassifier()  0.703067\n",
              "3      DecisionTreeClassifier()  0.720273\n",
              "2  GradientBoostingClassifier()  0.751256\n",
              "1           BaggingClassifier()  0.757823\n",
              "5      RandomForestClassifier()  0.796626"
            ],
            "text/html": [
              "\n",
              "  <div id=\"df-0f7d67f3-8114-402c-9fa7-58aebac0bfeb\" class=\"colab-df-container\">\n",
              "    <div>\n",
              "<style scoped>\n",
              "    .dataframe tbody tr th:only-of-type {\n",
              "        vertical-align: middle;\n",
              "    }\n",
              "\n",
              "    .dataframe tbody tr th {\n",
              "        vertical-align: top;\n",
              "    }\n",
              "\n",
              "    .dataframe thead th {\n",
              "        text-align: right;\n",
              "    }\n",
              "</style>\n",
              "<table border=\"1\" class=\"dataframe\">\n",
              "  <thead>\n",
              "    <tr style=\"text-align: right;\">\n",
              "      <th></th>\n",
              "      <th>model</th>\n",
              "      <th>cv_score</th>\n",
              "    </tr>\n",
              "  </thead>\n",
              "  <tbody>\n",
              "    <tr>\n",
              "      <th>4</th>\n",
              "      <td>KNeighborsClassifier()</td>\n",
              "      <td>0.630798</td>\n",
              "    </tr>\n",
              "    <tr>\n",
              "      <th>0</th>\n",
              "      <td>AdaBoostClassifier()</td>\n",
              "      <td>0.703067</td>\n",
              "    </tr>\n",
              "    <tr>\n",
              "      <th>3</th>\n",
              "      <td>DecisionTreeClassifier()</td>\n",
              "      <td>0.720273</td>\n",
              "    </tr>\n",
              "    <tr>\n",
              "      <th>2</th>\n",
              "      <td>GradientBoostingClassifier()</td>\n",
              "      <td>0.751256</td>\n",
              "    </tr>\n",
              "    <tr>\n",
              "      <th>1</th>\n",
              "      <td>BaggingClassifier()</td>\n",
              "      <td>0.757823</td>\n",
              "    </tr>\n",
              "    <tr>\n",
              "      <th>5</th>\n",
              "      <td>RandomForestClassifier()</td>\n",
              "      <td>0.796626</td>\n",
              "    </tr>\n",
              "  </tbody>\n",
              "</table>\n",
              "</div>\n",
              "    <div class=\"colab-df-buttons\">\n",
              "\n",
              "  <div class=\"colab-df-container\">\n",
              "    <button class=\"colab-df-convert\" onclick=\"convertToInteractive('df-0f7d67f3-8114-402c-9fa7-58aebac0bfeb')\"\n",
              "            title=\"Convert this dataframe to an interactive table.\"\n",
              "            style=\"display:none;\">\n",
              "\n",
              "  <svg xmlns=\"http://www.w3.org/2000/svg\" height=\"24px\" viewBox=\"0 -960 960 960\">\n",
              "    <path d=\"M120-120v-720h720v720H120Zm60-500h600v-160H180v160Zm220 220h160v-160H400v160Zm0 220h160v-160H400v160ZM180-400h160v-160H180v160Zm440 0h160v-160H620v160ZM180-180h160v-160H180v160Zm440 0h160v-160H620v160Z\"/>\n",
              "  </svg>\n",
              "    </button>\n",
              "\n",
              "  <style>\n",
              "    .colab-df-container {\n",
              "      display:flex;\n",
              "      gap: 12px;\n",
              "    }\n",
              "\n",
              "    .colab-df-convert {\n",
              "      background-color: #E8F0FE;\n",
              "      border: none;\n",
              "      border-radius: 50%;\n",
              "      cursor: pointer;\n",
              "      display: none;\n",
              "      fill: #1967D2;\n",
              "      height: 32px;\n",
              "      padding: 0 0 0 0;\n",
              "      width: 32px;\n",
              "    }\n",
              "\n",
              "    .colab-df-convert:hover {\n",
              "      background-color: #E2EBFA;\n",
              "      box-shadow: 0px 1px 2px rgba(60, 64, 67, 0.3), 0px 1px 3px 1px rgba(60, 64, 67, 0.15);\n",
              "      fill: #174EA6;\n",
              "    }\n",
              "\n",
              "    .colab-df-buttons div {\n",
              "      margin-bottom: 4px;\n",
              "    }\n",
              "\n",
              "    [theme=dark] .colab-df-convert {\n",
              "      background-color: #3B4455;\n",
              "      fill: #D2E3FC;\n",
              "    }\n",
              "\n",
              "    [theme=dark] .colab-df-convert:hover {\n",
              "      background-color: #434B5C;\n",
              "      box-shadow: 0px 1px 3px 1px rgba(0, 0, 0, 0.15);\n",
              "      filter: drop-shadow(0px 1px 2px rgba(0, 0, 0, 0.3));\n",
              "      fill: #FFFFFF;\n",
              "    }\n",
              "  </style>\n",
              "\n",
              "    <script>\n",
              "      const buttonEl =\n",
              "        document.querySelector('#df-0f7d67f3-8114-402c-9fa7-58aebac0bfeb button.colab-df-convert');\n",
              "      buttonEl.style.display =\n",
              "        google.colab.kernel.accessAllowed ? 'block' : 'none';\n",
              "\n",
              "      async function convertToInteractive(key) {\n",
              "        const element = document.querySelector('#df-0f7d67f3-8114-402c-9fa7-58aebac0bfeb');\n",
              "        const dataTable =\n",
              "          await google.colab.kernel.invokeFunction('convertToInteractive',\n",
              "                                                    [key], {});\n",
              "        if (!dataTable) return;\n",
              "\n",
              "        const docLinkHtml = 'Like what you see? Visit the ' +\n",
              "          '<a target=\"_blank\" href=https://colab.research.google.com/notebooks/data_table.ipynb>data table notebook</a>'\n",
              "          + ' to learn more about interactive tables.';\n",
              "        element.innerHTML = '';\n",
              "        dataTable['output_type'] = 'display_data';\n",
              "        await google.colab.output.renderOutput(dataTable, element);\n",
              "        const docLink = document.createElement('div');\n",
              "        docLink.innerHTML = docLinkHtml;\n",
              "        element.appendChild(docLink);\n",
              "      }\n",
              "    </script>\n",
              "  </div>\n",
              "\n",
              "\n",
              "<div id=\"df-26a20560-48e8-4845-a114-ab2117a808da\">\n",
              "  <button class=\"colab-df-quickchart\" onclick=\"quickchart('df-26a20560-48e8-4845-a114-ab2117a808da')\"\n",
              "            title=\"Suggest charts\"\n",
              "            style=\"display:none;\">\n",
              "\n",
              "<svg xmlns=\"http://www.w3.org/2000/svg\" height=\"24px\"viewBox=\"0 0 24 24\"\n",
              "     width=\"24px\">\n",
              "    <g>\n",
              "        <path d=\"M19 3H5c-1.1 0-2 .9-2 2v14c0 1.1.9 2 2 2h14c1.1 0 2-.9 2-2V5c0-1.1-.9-2-2-2zM9 17H7v-7h2v7zm4 0h-2V7h2v10zm4 0h-2v-4h2v4z\"/>\n",
              "    </g>\n",
              "</svg>\n",
              "  </button>\n",
              "\n",
              "<style>\n",
              "  .colab-df-quickchart {\n",
              "      --bg-color: #E8F0FE;\n",
              "      --fill-color: #1967D2;\n",
              "      --hover-bg-color: #E2EBFA;\n",
              "      --hover-fill-color: #174EA6;\n",
              "      --disabled-fill-color: #AAA;\n",
              "      --disabled-bg-color: #DDD;\n",
              "  }\n",
              "\n",
              "  [theme=dark] .colab-df-quickchart {\n",
              "      --bg-color: #3B4455;\n",
              "      --fill-color: #D2E3FC;\n",
              "      --hover-bg-color: #434B5C;\n",
              "      --hover-fill-color: #FFFFFF;\n",
              "      --disabled-bg-color: #3B4455;\n",
              "      --disabled-fill-color: #666;\n",
              "  }\n",
              "\n",
              "  .colab-df-quickchart {\n",
              "    background-color: var(--bg-color);\n",
              "    border: none;\n",
              "    border-radius: 50%;\n",
              "    cursor: pointer;\n",
              "    display: none;\n",
              "    fill: var(--fill-color);\n",
              "    height: 32px;\n",
              "    padding: 0;\n",
              "    width: 32px;\n",
              "  }\n",
              "\n",
              "  .colab-df-quickchart:hover {\n",
              "    background-color: var(--hover-bg-color);\n",
              "    box-shadow: 0 1px 2px rgba(60, 64, 67, 0.3), 0 1px 3px 1px rgba(60, 64, 67, 0.15);\n",
              "    fill: var(--button-hover-fill-color);\n",
              "  }\n",
              "\n",
              "  .colab-df-quickchart-complete:disabled,\n",
              "  .colab-df-quickchart-complete:disabled:hover {\n",
              "    background-color: var(--disabled-bg-color);\n",
              "    fill: var(--disabled-fill-color);\n",
              "    box-shadow: none;\n",
              "  }\n",
              "\n",
              "  .colab-df-spinner {\n",
              "    border: 2px solid var(--fill-color);\n",
              "    border-color: transparent;\n",
              "    border-bottom-color: var(--fill-color);\n",
              "    animation:\n",
              "      spin 1s steps(1) infinite;\n",
              "  }\n",
              "\n",
              "  @keyframes spin {\n",
              "    0% {\n",
              "      border-color: transparent;\n",
              "      border-bottom-color: var(--fill-color);\n",
              "      border-left-color: var(--fill-color);\n",
              "    }\n",
              "    20% {\n",
              "      border-color: transparent;\n",
              "      border-left-color: var(--fill-color);\n",
              "      border-top-color: var(--fill-color);\n",
              "    }\n",
              "    30% {\n",
              "      border-color: transparent;\n",
              "      border-left-color: var(--fill-color);\n",
              "      border-top-color: var(--fill-color);\n",
              "      border-right-color: var(--fill-color);\n",
              "    }\n",
              "    40% {\n",
              "      border-color: transparent;\n",
              "      border-right-color: var(--fill-color);\n",
              "      border-top-color: var(--fill-color);\n",
              "    }\n",
              "    60% {\n",
              "      border-color: transparent;\n",
              "      border-right-color: var(--fill-color);\n",
              "    }\n",
              "    80% {\n",
              "      border-color: transparent;\n",
              "      border-right-color: var(--fill-color);\n",
              "      border-bottom-color: var(--fill-color);\n",
              "    }\n",
              "    90% {\n",
              "      border-color: transparent;\n",
              "      border-bottom-color: var(--fill-color);\n",
              "    }\n",
              "  }\n",
              "</style>\n",
              "\n",
              "  <script>\n",
              "    async function quickchart(key) {\n",
              "      const quickchartButtonEl =\n",
              "        document.querySelector('#' + key + ' button');\n",
              "      quickchartButtonEl.disabled = true;  // To prevent multiple clicks.\n",
              "      quickchartButtonEl.classList.add('colab-df-spinner');\n",
              "      try {\n",
              "        const charts = await google.colab.kernel.invokeFunction(\n",
              "            'suggestCharts', [key], {});\n",
              "      } catch (error) {\n",
              "        console.error('Error during call to suggestCharts:', error);\n",
              "      }\n",
              "      quickchartButtonEl.classList.remove('colab-df-spinner');\n",
              "      quickchartButtonEl.classList.add('colab-df-quickchart-complete');\n",
              "    }\n",
              "    (() => {\n",
              "      let quickchartButtonEl =\n",
              "        document.querySelector('#df-26a20560-48e8-4845-a114-ab2117a808da button');\n",
              "      quickchartButtonEl.style.display =\n",
              "        google.colab.kernel.accessAllowed ? 'block' : 'none';\n",
              "    })();\n",
              "  </script>\n",
              "</div>\n",
              "    </div>\n",
              "  </div>\n"
            ],
            "application/vnd.google.colaboratory.intrinsic+json": {
              "type": "dataframe",
              "summary": "{\n  \"name\": \"model_df\",\n  \"rows\": 6,\n  \"fields\": [\n    {\n      \"column\": \"model\",\n      \"properties\": {\n        \"dtype\": \"string\",\n        \"num_unique_values\": 6,\n        \"samples\": [\n          \"KNeighborsClassifier()\",\n          \"AdaBoostClassifier()\",\n          \"RandomForestClassifier()\"\n        ],\n        \"semantic_type\": \"\",\n        \"description\": \"\"\n      }\n    },\n    {\n      \"column\": \"cv_score\",\n      \"properties\": {\n        \"dtype\": \"number\",\n        \"std\": 0.05702339535610821,\n        \"min\": 0.6307976330203443,\n        \"max\": 0.7966255868544602,\n        \"num_unique_values\": 6,\n        \"samples\": [\n          0.6307976330203443,\n          0.703066803599374,\n          0.7966255868544602\n        ],\n        \"semantic_type\": \"\",\n        \"description\": \"\"\n      }\n    }\n  ]\n}"
            }
          },
          "metadata": {},
          "execution_count": 15
        }
      ],
      "source": [
        "mod = []\n",
        "cv_score=[]\n",
        "model =[AdaBoostClassifier(), BaggingClassifier(), GradientBoostingClassifier(), DecisionTreeClassifier(), KNeighborsClassifier(), RandomForestClassifier()]\n",
        "for m in model:\n",
        "    cv_score.append(cross_val_score(m, X_train, y_train, scoring='accuracy', cv=5).mean())\n",
        "    mod.append(m)\n",
        "\n",
        "model_df=pd.DataFrame(columns=['model','cv_score'])\n",
        "model_df['model']=mod\n",
        "model_df['cv_score']=cv_score\n",
        "model_df.sort_values(by=['cv_score'], ascending=True)"
      ]
    },
    {
      "cell_type": "code",
      "execution_count": null,
      "metadata": {
        "colab": {
          "base_uri": "https://localhost:8080/"
        },
        "id": "w71yDNq4Ia-B",
        "outputId": "8fb4f928-3609-4f9a-a54c-5ef8423bf51c"
      },
      "outputs": [
        {
          "output_type": "stream",
          "name": "stdout",
          "text": [
            " 12%|█▏        | 12/100 [00:36<03:13,  2.20s/trial, best loss: -0.7424877738654148]"
          ]
        },
        {
          "output_type": "stream",
          "name": "stderr",
          "text": [
            "/usr/local/lib/python3.10/dist-packages/sklearn/ensemble/_base.py:166: FutureWarning: `base_estimator` was renamed to `estimator` in version 1.2 and will be removed in 1.4.\n",
            "  warnings.warn(\n",
            "\n",
            "/usr/local/lib/python3.10/dist-packages/sklearn/ensemble/_base.py:166: FutureWarning: `base_estimator` was renamed to `estimator` in version 1.2 and will be removed in 1.4.\n",
            "  warnings.warn(\n",
            "\n",
            "/usr/local/lib/python3.10/dist-packages/sklearn/ensemble/_base.py:166: FutureWarning: `base_estimator` was renamed to `estimator` in version 1.2 and will be removed in 1.4.\n",
            "  warnings.warn(\n",
            "\n",
            "/usr/local/lib/python3.10/dist-packages/sklearn/ensemble/_base.py:166: FutureWarning: `base_estimator` was renamed to `estimator` in version 1.2 and will be removed in 1.4.\n",
            "  warnings.warn(\n",
            "\n",
            "/usr/local/lib/python3.10/dist-packages/sklearn/ensemble/_base.py:166: FutureWarning: `base_estimator` was renamed to `estimator` in version 1.2 and will be removed in 1.4.\n",
            "  warnings.warn(\n",
            "\n"
          ]
        },
        {
          "output_type": "stream",
          "name": "stdout",
          "text": [
            " 15%|█▌        | 15/100 [04:55<56:12, 39.68s/trial, best loss: -0.7424877738654148]  "
          ]
        },
        {
          "output_type": "stream",
          "name": "stderr",
          "text": [
            "/usr/local/lib/python3.10/dist-packages/sklearn/ensemble/_base.py:166: FutureWarning: `base_estimator` was renamed to `estimator` in version 1.2 and will be removed in 1.4.\n",
            "  warnings.warn(\n",
            "\n",
            "/usr/local/lib/python3.10/dist-packages/sklearn/ensemble/_base.py:166: FutureWarning: `base_estimator` was renamed to `estimator` in version 1.2 and will be removed in 1.4.\n",
            "  warnings.warn(\n",
            "\n"
          ]
        }
      ],
      "source": [
        "from hyperopt import hp, fmin, tpe, Trials, space_eval\n",
        "import numpy as np\n",
        "from sklearn.model_selection import cross_val_score\n",
        "\n",
        "# Define objective function\n",
        "def objective(params):\n",
        "    if params['classifier'] == 'RandomForest':\n",
        "        clf = RandomForestClassifier(n_estimators=params['n_estimators'],\n",
        "                                     max_depth=params['max_depth'],\n",
        "                                     min_samples_split=params['min_samples_split'],\n",
        "                                     min_samples_leaf=params['min_samples_leaf'])\n",
        "    elif params['classifier'] == 'Bagging':\n",
        "        base_estimator = RandomForestClassifier(n_estimators=params['base_n_estimators'],\n",
        "                                                 max_depth=params['base_max_depth'],\n",
        "                                                 min_samples_split=params['base_min_samples_split'],\n",
        "                                                 min_samples_leaf=params['base_min_samples_leaf'])\n",
        "        clf = BaggingClassifier(base_estimator=base_estimator,\n",
        "                                n_estimators=params['n_estimators'],\n",
        "                                max_samples=params['max_samples'],\n",
        "                                max_features=params['max_features'])\n",
        "    elif params['classifier'] == 'GradientBoosting':\n",
        "        clf = GradientBoostingClassifier(n_estimators=params['n_estimators'],\n",
        "                                          learning_rate=params['learning_rate'],\n",
        "                                          max_depth=params['max_depth'],\n",
        "                                          min_samples_split=params['min_samples_split'],\n",
        "                                          min_samples_leaf=params['min_samples_leaf'])\n",
        "    else:\n",
        "        raise ValueError(\"Invalid classifier\")\n",
        "\n",
        "    score = cross_val_score(clf, X_train, y_train, cv=5).mean()\n",
        "    return -score  # Hyperopt minimizes the objective, so we use negative score\n",
        "\n",
        "# Define search space\n",
        "space = {\n",
        "    'classifier': hp.choice('classifier', ['RandomForest', 'Bagging', 'GradientBoosting']),\n",
        "\n",
        "    'n_estimators': hp.choice('n_estimators', range(10, 300)),\n",
        "    'max_depth': hp.choice('max_depth', range(1, 20)),\n",
        "    'min_samples_split': hp.uniform('min_samples_split', 0.1, 0.9),\n",
        "    'min_samples_leaf': hp.uniform('min_samples_leaf', 0.1, 0.5),\n",
        "\n",
        "    'base_n_estimators': hp.choice('base_n_estimators', range(10, 300)),\n",
        "    'base_max_depth': hp.choice('base_max_depth', range(1, 20)),\n",
        "    'base_min_samples_split': hp.uniform('base_min_samples_split', 0.1, 0.9),\n",
        "    'base_min_samples_leaf': hp.uniform('base_min_samples_leaf', 0.1, 0.5),\n",
        "    'max_samples': hp.uniform('max_samples', 0.1, 1.0),\n",
        "    'max_features': hp.uniform('max_features', 0.1, 1.0),\n",
        "\n",
        "    'learning_rate': hp.loguniform('learning_rate', np.log(0.01), np.log(0.2))\n",
        "}\n",
        "\n",
        "# Select optimization algorithm\n",
        "algo = tpe.suggest\n",
        "\n",
        "# Run hyperparameter optimization\n",
        "trials = Trials()\n",
        "best = fmin(objective, space, algo=algo, max_evals=100, trials=trials)\n",
        "\n",
        "# Retrieve best hyperparameters\n",
        "best_params = space_eval(space, best)\n",
        "print(\"Best hyperparameters:\", best_params)"
      ]
    },
    {
      "cell_type": "code",
      "execution_count": null,
      "metadata": {
        "id": "gGcIfPEv2Xuu"
      },
      "outputs": [],
      "source": [
        "param_grid = {'n_estimators': [100, 150, 200, 250, 300, 350, 400]}\n",
        "\n",
        "rf_classifier = RandomForestClassifier()\n",
        "\n",
        "# Perform grid search with cross-validation\n",
        "grid_search = GridSearchCV(estimator=rf_classifier, param_grid=param_grid, cv=5, scoring='accuracy')\n",
        "grid_search.fit(X_train, y_train)\n",
        "\n",
        "print(f\"Best Estimator: {grid_search.best_params_} , Best Score : {grid_search.best_score_}\")"
      ]
    },
    {
      "cell_type": "code",
      "execution_count": null,
      "metadata": {
        "id": "xYmzV9io01qY"
      },
      "outputs": [],
      "source": [
        "from sklearn.model_selection import GridSearchCV\n",
        "param={'n_estimators': [100,150,200,250,300,350,400]}\n",
        "grid_Grd=GridSearchCV(GradientBoostingClassifier(), param_grid=param, cv=5, scoring='accuracy')\n",
        "grid_Grd.fit(X_train, y_train)\n",
        "print(f\"Best Estimator: {grid_Grd.best_params_} , Best Score : {grid_Grd.best_score_}\")\n"
      ]
    },
    {
      "cell_type": "code",
      "execution_count": null,
      "metadata": {
        "id": "GN1AUfCi3fo5"
      },
      "outputs": [],
      "source": [
        "param={'n_estimators': [100,150,200,250,300,350,400]}\n",
        "grid_Bag=GridSearchCV(BaggingClassifier(), param_grid=param, cv=5, scoring='accuracy')\n",
        "grid_Bag.fit(X_train, y_train)\n",
        "print(f\"Best Estimator: {grid_Bag.best_params_} , Best Score : {grid_Bag.best_score_}\")\n"
      ]
    },
    {
      "cell_type": "code",
      "execution_count": null,
      "metadata": {
        "id": "RyC6fYHL32TR"
      },
      "outputs": [],
      "source": [
        "rf_model = RandomForestClassifier(n_estimators=300, random_state=42)\n",
        "rf_model.fit(X_train, y_train)\n",
        "\n",
        "gb_model = GradientBoostingClassifier(n_estimators=150, random_state=42)\n",
        "gb_model.fit(X_train, y_train)\n",
        "\n",
        "bg_model = BaggingClassifier(n_estimators=100,random_state=42 )\n",
        "bg_model.fit(X_train,y_train)"
      ]
    },
    {
      "cell_type": "code",
      "execution_count": null,
      "metadata": {
        "id": "LCI5Wbcu4ebn"
      },
      "outputs": [],
      "source": [
        "from sklearn.metrics import accuracy_score, precision_score, recall_score, f1_score\n",
        "\n",
        "y_pred_rf = rf_model.predict(X_test)\n",
        "y_pred_gb = gb_model.predict(X_test)\n",
        "y_pred_bg = bg_model.predict(X_test)\n",
        "\n",
        "predictions = {\n",
        "    'Random Forest': y_pred_rf,\n",
        "    'Gradient Boosting': y_pred_gb,\n",
        "    'Bagging Classifier': y_pred_bg,\n",
        "}\n",
        "\n",
        "performance_metrics = {}\n",
        "\n",
        "# Calculate performance metrics for each model and store them in the dictionary\n",
        "for model_name, y_pred in predictions.items():\n",
        "    accuracy = accuracy_score(y_test, y_pred)\n",
        "    precision = precision_score(y_test, y_pred)\n",
        "    recall = recall_score(y_test, y_pred)\n",
        "    f1 = f1_score(y_test, y_pred)\n",
        "    performance_metrics[model_name] = [accuracy, precision, recall, f1]\n",
        "\n",
        "# Create a DataFrame from the performance metrics dictionary\n",
        "performance_df = pd.DataFrame(performance_metrics, index=['Accuracy', 'Precision', 'Recall', 'F1 Score']).T\n",
        "\n",
        "# Display the summary table\n",
        "print(performance_df)"
      ]
    },
    {
      "cell_type": "code",
      "execution_count": null,
      "metadata": {
        "id": "1fsmQk5H48Py"
      },
      "outputs": [],
      "source": [
        "from sklearn.ensemble import VotingClassifier\n",
        "\n",
        "voting_classifier = VotingClassifier(estimators=[\n",
        "    ('rf', rf_model),\n",
        "    ('gb', gb_model),\n",
        "    ('bg', bg_model)\n",
        "], voting='hard')\n",
        "\n",
        "voting_classifier.fit(X_train, y_train)\n",
        "y_pred = voting_classifier.predict(X_test)\n",
        "ensemble_accuracy = accuracy_score(y_test, y_pred)\n",
        "print(\"Ensemble Accuracy:\", ensemble_accuracy)"
      ]
    },
    {
      "cell_type": "code",
      "execution_count": null,
      "metadata": {
        "id": "HBZYCoAG5EhR"
      },
      "outputs": [],
      "source": [
        "from sklearn.ensemble import StackingClassifier\n",
        "from sklearn.linear_model import LogisticRegression\n",
        "from sklearn.ensemble import RandomForestClassifier, GradientBoostingClassifier\n",
        "\n",
        "# Define the base models\n",
        "base_models = [\n",
        "\n",
        "    ('rf', rf_model),\n",
        "    ('gb', gb_model),\n",
        "    ('bg', bg_model)\n",
        "]\n",
        "\n",
        "# Define the meta learner (or blender)\n",
        "meta_learner = LogisticRegression()\n",
        "\n",
        "# Create the stacking classifier\n",
        "stacking_classifier = StackingClassifier(estimators=base_models, final_estimator=meta_learner)\n",
        "\n",
        "# Train the stacking classifier\n",
        "stacking_classifier.fit(X_train, y_train)\n",
        "\n",
        "# Evaluate the stacking classifier\n",
        "accuracy = stacking_classifier.score(X_test, y_test)\n",
        "print(\"Stacking Classifier Accuracy:\", accuracy)"
      ]
    },
    {
      "cell_type": "code",
      "execution_count": null,
      "metadata": {
        "id": "01Gw_r7a5VjY"
      },
      "outputs": [],
      "source": [
        "from sklearn.metrics import confusion_matrix\n",
        "import seaborn as sns\n",
        "import matplotlib.pyplot as plt\n",
        "\n",
        "# Define function to plot confusion matrix\n",
        "def plot_confusion_matrix(y_true, y_pred, model_name):\n",
        "    cm = confusion_matrix(y_true, y_pred)\n",
        "    plt.figure(figsize=(8, 6))\n",
        "    sns.heatmap(cm, annot=True, cmap='Blues', fmt='g')\n",
        "    plt.xlabel('Predicted labels')\n",
        "    plt.ylabel('True labels')\n",
        "    plt.title(f'Confusion Matrix - {model_name}')\n",
        "    plt.show()\n",
        "\n",
        "# Generate confusion matrix for Random Forest\n",
        "plot_confusion_matrix(y_test, y_pred_rf, 'Random Forest')\n",
        "\n",
        "# Generate confusion matrix for Gradient Boosting\n",
        "plot_confusion_matrix(y_test, y_pred_gb, 'Gradient Boosting')\n",
        "\n",
        "# Generate confusion matrix for Bagging Classifier\n",
        "plot_confusion_matrix(y_test, y_pred_bg, 'Bagging Classifier')\n"
      ]
    },
    {
      "cell_type": "code",
      "execution_count": null,
      "metadata": {
        "id": "JHYXhFe0xZLr"
      },
      "outputs": [],
      "source": [
        "from sklearn.feature_selection import SelectPercentile, SelectKBest, chi2\n",
        "\n",
        "# Instantiate SelectPercentile for 50th percentile\n",
        "selector_percentile_50 = SelectPercentile(percentile=50)\n",
        "\n",
        "# Fit and transform the selector on your features\n",
        "X_selected_percentile_50 = selector_percentile_50.fit_transform(X_train, y_train)\n",
        "\n",
        "# Instantiate SelectPercentile for 70th percentile\n",
        "selector_percentile_70 = SelectPercentile(percentile=70)\n",
        "\n",
        "# Fit and transform the selector on your features\n",
        "X_selected_percentile_70 = selector_percentile_70.fit_transform(X_train, y_train)\n",
        "\n",
        "# Instantiate SelectKBest with chi2 as score function\n",
        "selector_kbest = SelectKBest(score_func=chi2, k=7)\n",
        "\n",
        "# Fit and transform the selector on your features\n",
        "X_selected_kbest = selector_kbest.fit_transform(X_train, y_train)\n",
        "\n",
        "# Get the indices of the selected features for SelectKBest\n",
        "selected_features_indices = selector_kbest.get_support(indices=True)\n",
        "\n",
        "# Get the names of the selected features\n",
        "selected_features_names = X.columns[selected_features_indices]\n",
        "\n",
        "print(\"Selected features using SelectPercentile (50th percentile):\", X_selected_percentile_50.shape[1])\n",
        "print(\"Selected features using SelectPercentile (70th percentile):\", X_selected_percentile_70.shape[1])\n",
        "print(\"Selected features using SelectKBest:\", X_selected_kbest.shape[1])\n",
        "print(\"Selected features:\", selected_features_names)\n"
      ]
    },
    {
      "cell_type": "code",
      "execution_count": null,
      "metadata": {
        "id": "mz42jazg0szS"
      },
      "outputs": [],
      "source": [
        "import pandas as pd\n",
        "from sklearn.feature_selection import SelectPercentile, SelectKBest, chi2\n",
        "from sklearn.linear_model import LogisticRegression\n",
        "from sklearn.metrics import accuracy_score, precision_score, recall_score, f1_score\n",
        "from sklearn.model_selection import train_test_split\n",
        "\n",
        "# Function to calculate metrics\n",
        "def calculate_metrics(y_true, y_pred):\n",
        "    accuracy = accuracy_score(y_true, y_pred)\n",
        "    precision = precision_score(y_true, y_pred)\n",
        "    recall = recall_score(y_true, y_pred)\n",
        "    f1 = f1_score(y_true, y_pred)\n",
        "    return accuracy, precision, recall, f1\n",
        "\n",
        "# Define feature selection methods\n",
        "methods = ['Select Percentile 50', 'Select Percentile 70', 'SelectKBest 5', 'SelectKBest 7', 'No multicollinearity']\n",
        "\n",
        "# Initialize lists to store results\n",
        "accuracy_results = []\n",
        "precision_results = []\n",
        "recall_results = []\n",
        "f1_results = []\n",
        "\n",
        "# Loop through each feature selection method\n",
        "for method in methods:\n",
        "    if 'Select Percentile' in method:\n",
        "        # Instantiate SelectPercentile\n",
        "        percentile = int(method.split()[-1])\n",
        "        selector = SelectPercentile(percentile=percentile)\n",
        "        X_selected = selector.fit_transform(X_train, y_train)\n",
        "    elif 'SelectKBest' in method:\n",
        "        # Instantiate SelectKBest\n",
        "        k = int(method.split()[-1])\n",
        "        selector = SelectKBest(score_func=chi2, k=k)\n",
        "        X_selected = selector.fit_transform(X_train, y_train)\n",
        "    else:\n",
        "        # No feature selection\n",
        "        X_selected = X_train\n",
        "\n",
        "    # Split data into train and test sets\n",
        "    X_train_sel, X_test_sel, y_train_sel, y_test_sel = train_test_split(X_selected, y_train, test_size=0.2, random_state=1, stratify=y_train)\n",
        "\n",
        "    # Train model\n",
        "    model = LogisticRegression()\n",
        "    model.fit(X_train_sel, y_train_sel)\n",
        "\n",
        "    # Make predictions\n",
        "    y_pred_sel = model.predict(X_test_sel)\n",
        "\n",
        "    # Calculate metrics\n",
        "    accuracy, precision, recall, f1 = calculate_metrics(y_test_sel, y_pred_sel)\n",
        "\n",
        "    # Append results to lists\n",
        "    accuracy_results.append(accuracy)\n",
        "    precision_results.append(precision)\n",
        "    recall_results.append(recall)\n",
        "    f1_results.append(f1)\n",
        "\n",
        "# Create DataFrame to store results\n",
        "results_df = pd.DataFrame({\n",
        "    'Method': methods,\n",
        "    'Accuracy': accuracy_results,\n",
        "    'Precision': precision_results,\n",
        "    'Recall': recall_results,\n",
        "    'F1 Score': f1_results\n",
        "})\n",
        "\n",
        "# Display results\n",
        "print(results_df)\n"
      ]
    },
    {
      "cell_type": "code",
      "execution_count": null,
      "metadata": {
        "id": "49iAy6Sz4GVi"
      },
      "outputs": [],
      "source": [
        "# Define the models\n",
        "rf_model = RandomForestClassifier()\n",
        "gb_model = GradientBoostingClassifier()\n",
        "bg_model = BaggingClassifier()\n",
        "\n",
        "# Create a list of models\n",
        "models = [rf_model, gb_model, bg_model]\n",
        "\n",
        "# Create a list of model names\n",
        "model_names = ['Random Forest', 'Gradient Boosting', 'Bagging Classifier']\n",
        "\n",
        "# Create a DataFrame to store the results\n",
        "results = pd.DataFrame(columns=['Model', 'Training Accuracy', 'Testing Accuracy'])\n",
        "\n",
        "# Loop through each model and calculate training and testing accuracy\n",
        "for i in range(len(models)):\n",
        "    # Fit the model to the training data\n",
        "    models[i].fit(X_train, y_train)\n",
        "\n",
        "    # Calculate training accuracy\n",
        "    train_acc = models[i].score(X_train, y_train)\n",
        "\n",
        "    # Calculate testing accuracy\n",
        "    test_acc = models[i].score(X_test, y_test)\n",
        "\n",
        "    # Add results to DataFrame\n",
        "    results = results.append({'Model': model_names[i], 'Training Accuracy': train_acc, 'Testing Accuracy': test_acc}, ignore_index=True)\n",
        "\n",
        "# Print the results\n",
        "print(results)\n",
        "\n",
        "# Plot the results\n",
        "plt.figure(figsize=(10,6))\n",
        "plt.bar(results['Model'], results['Testing Accuracy'], color='blue')\n",
        "plt.xlabel('ML Classifiers')\n",
        "plt.ylabel('Accuracy')\n",
        "plt.title('ML Classifiers vs Accuracy')\n",
        "plt.show()\n"
      ]
    },
    {
      "cell_type": "code",
      "execution_count": null,
      "metadata": {
        "id": "QNn8xIHp8PUZ"
      },
      "outputs": [],
      "source": [
        "# Train the Random Forest model\n",
        "rf_model = RandomForestClassifier(n_estimators=100, random_state=0)\n",
        "rf_model.fit(X_train, y_train)\n",
        "\n",
        "# Train the Gradient Boosting model\n",
        "gb_model = GradientBoostingClassifier(n_estimators=100, random_state=0)\n",
        "gb_model.fit(X_train, y_train)\n",
        "\n",
        "# Train the Bagging Classifier model\n",
        "bg_model = BaggingClassifier(base_estimator=DecisionTreeClassifier(), n_estimators=100, random_state=0)\n",
        "bg_model.fit(X_train, y_train)\n"
      ]
    },
    {
      "cell_type": "code",
      "execution_count": null,
      "metadata": {
        "id": "QkPA5mOD6nYL"
      },
      "outputs": [],
      "source": [
        "# Calculate accuracy for each model on training and testing data\n",
        "train_accuracy = []\n",
        "test_accuracy = []\n",
        "\n",
        "for name, model in zip(['Random Forest', 'Gradient Boosting', 'Bagging Classifier'], [rf_model, gb_model, bg_model]):\n",
        "    train_acc = model.score(X_train, y_train)\n",
        "    test_acc = model.score(X_test, y_test)\n",
        "    train_accuracy.append(train_acc)\n",
        "    test_accuracy.append(test_acc)\n",
        "\n",
        "# Create a DataFrame to store the results\n",
        "results = pd.DataFrame({'Classifier': ['Random Forest', 'Gradient Boosting', 'Bagging Classifier'],\n",
        "                         'Train Accuracy': train_accuracy,\n",
        "                         'Test Accuracy': test_accuracy})\n",
        "\n",
        "# Print the DataFrame\n",
        "print(results)\n",
        "\n",
        "# Create a bar plot to visualize the results\n",
        "import matplotlib.pyplot as plt\n",
        "\n",
        "plt.figure(figsize=(10,6))\n",
        "plt.bar(results['Classifier'], results['Test Accuracy'], color='blue')\n",
        "plt.xlabel('Classifier')\n",
        "plt.ylabel('Accuracy')\n",
        "plt.title('Classifier Accuracy')\n",
        "plt.show()\n"
      ]
    },
    {
      "cell_type": "code",
      "execution_count": null,
      "metadata": {
        "id": "MTgDg3zV7aDu"
      },
      "outputs": [],
      "source": [
        "# Create a DataFrame to store the results\n",
        "results = pd.DataFrame(columns=['Model', 'Training Accuracy', 'Testing Accuracy'])\n",
        "\n",
        "# Loop through each model and calculate training and testing accuracy\n",
        "for i in range(len(models)):\n",
        "    # Fit the model to the training data\n",
        "    models[i].fit(X_train, y_train)\n",
        "\n",
        "    # Calculate training accuracy\n",
        "    train_acc = models[i].score(X_train, y_train)\n",
        "\n",
        "    # Calculate testing accuracy\n",
        "    test_acc = models[i].score(X_test, y_test)\n",
        "\n",
        "    # Add results to DataFrame\n",
        "    results = results.append({'Model': model_names[i], 'Training Accuracy': train_acc, 'Testing Accuracy': test_acc}, ignore_index=True)\n",
        "\n",
        "# Set 'Model' column as index\n",
        "results.set_index('Model', inplace=True)\n",
        "\n",
        "# Plot the results\n",
        "plt.figure(figsize=(10,6))\n",
        "plt.bar(results.index, results['Testing Accuracy'], color='blue', label='Testing Accuracy')\n",
        "plt.bar(results.index, results['Training Accuracy'], color='red', label='Training Accuracy')\n",
        "plt.xlabel('ML Classifiers')\n",
        "plt.ylabel('Accuracy')\n",
        "plt.title('ML Classifiers vs Accuracy')\n",
        "plt.legend()\n",
        "plt.show()\n"
      ]
    },
    {
      "cell_type": "code",
      "execution_count": null,
      "metadata": {
        "id": "mNsOk8MtCcdj"
      },
      "outputs": [],
      "source": [
        "from sklearn.metrics import accuracy_score, precision_score, recall_score, f1_score\n",
        "from sklearn.ensemble import AdaBoostClassifier\n",
        "\n",
        "# Define the AdaBoost classifier\n",
        "ada_boost_model = AdaBoostClassifier()\n",
        "\n",
        "# Define the models with their predictions\n",
        "models = {\n",
        "    'Random Forest': rf_model,\n",
        "    'Gradient Boosting': gb_model,\n",
        "    'Bagging Classifier': bg_model,\n",
        "    'AdaBoost Classifier': ada_boost_model,\n",
        "    'Decision Tree Classifier': decision_tree_model,\n",
        "    'K Neighbors Classifier': knn_model\n",
        "}\n",
        "\n",
        "# Calculate metrics for each model\n",
        "metrics = {}\n",
        "for name, model in models.items():\n",
        "    # Make predictions\n",
        "    y_pred = model.predict(X_test)\n",
        "    # Calculate metrics\n",
        "    accuracy = accuracy_score(y_test, y_pred)\n",
        "    precision = precision_score(y_test, y_pred)\n",
        "    recall = recall_score(y_test, y_pred)\n",
        "    f1 = f1_score(y_test, y_pred)\n",
        "    # Store metrics in dictionary\n",
        "    metrics[name] = [accuracy, precision, recall, f1]\n",
        "\n",
        "# Create DataFrame to store results\n",
        "metrics_df = pd.DataFrame(metrics, index=['Accuracy', 'Precision', 'Recall', 'F1 Score'])\n",
        "\n",
        "# Print the DataFrame\n",
        "print(metrics_df)\n"
      ]
    },
    {
      "cell_type": "code",
      "execution_count": null,
      "metadata": {
        "id": "IzyWKmWHiSwb"
      },
      "outputs": [],
      "source": [
        "from sklearn.metrics import accuracy_score, precision_score, recall_score, f1_score\n",
        "\n",
        "# List of classifiers\n",
        "classifiers = [\n",
        "    ('KNeighborsClassifier', KNeighborsClassifier()),\n",
        "    ('AdaBoostClassifier', AdaBoostClassifier()),\n",
        "    ('BaggingClassifier', BaggingClassifier()),\n",
        "    ('GradientBoostingClassifier', GradientBoostingClassifier()),\n",
        "    ('RandomForestClassifier', RandomForestClassifier()),\n",
        "    ('DecisionTreeClassifier', DecisionTreeClassifier())\n",
        "]\n",
        "\n",
        "# List to store scores\n",
        "scores = []\n",
        "\n",
        "# Loop over classifiers\n",
        "for name, clf in classifiers:\n",
        "    # Fit the classifier\n",
        "    clf.fit(X_train, y_train)\n",
        "    # Predict the test set results\n",
        "    y_pred = clf.predict(X_test)\n",
        "    # Calculate scores\n",
        "    acc = accuracy_score(y_test, y_pred)\n",
        "    prec = precision_score(y_test, y_pred, average='weighted')\n",
        "    rec = recall_score(y_test, y_pred, average='weighted')\n",
        "    f1 = f1_score(y_test, y_pred, average='weighted')\n",
        "    # Append scores to the list\n",
        "    scores.append((name, acc, prec, rec, f1))\n",
        "\n",
        "# Convert the list to a DataFrame\n",
        "df_scores = pd.DataFrame(scores, columns=['Classifier', 'Accuracy', 'Precision', 'Recall', 'F1 Score'])\n",
        "\n",
        "# Print the DataFrame\n",
        "print(df_scores)\n"
      ]
    },
    {
      "cell_type": "code",
      "execution_count": null,
      "metadata": {
        "id": "vIOvL3e2jUjd"
      },
      "outputs": [],
      "source": [
        "import matplotlib.pyplot as plt\n",
        "\n",
        "# Plotting F1 Score\n",
        "plt.figure(figsize=(12,6))\n",
        "plt.bar(df_scores['Classifier'], df_scores['F1 Score'])\n",
        "plt.xlabel('Classifiers')\n",
        "plt.ylabel('F1 Score')\n",
        "plt.title('F1 Score of Different Classifiers')\n",
        "plt.xticks(rotation=45)\n",
        "plt.show()\n"
      ]
    },
    {
      "cell_type": "code",
      "execution_count": null,
      "metadata": {
        "id": "88raMXVHjsmb"
      },
      "outputs": [],
      "source": [
        "import pandas as pd\n",
        "import matplotlib.pyplot as plt\n",
        "from matplotlib.patches import Circle, RegularPolygon\n",
        "from pandas.plotting import register_matplotlib_converters\n",
        "import math\n",
        "\n",
        "register_matplotlib_converters()\n",
        "\n",
        "# Assuming df_scores is the DataFrame containing the scores\n",
        "categories=list(df_scores)[1:]\n",
        "N = len(categories)\n",
        "\n",
        "# Prepare data\n",
        "data = df_scores.set_index('Classifier').T.to_dict('list')\n",
        "data = {k: v for k, v in data.items()}\n",
        "\n",
        "# Create the radar chart\n",
        "fig = plt.figure(figsize=(10, 10))\n",
        "ax = fig.add_subplot(111, polar=True)\n",
        "ax.set_rlabel_position(0)\n",
        "ax.set_theta_offset(math.pi / 2)\n",
        "ax.set_theta_direction(-1)\n",
        "ax.set_ylim(bottom=0, top=max(df_scores.loc[:, categories].max()))\n",
        "\n",
        "# Draw one axe\n",
        "ax.plot([theta for theta in range(N)], [0 for _ in range(N)],\n",
        "        linestyle='--', label='Average')\n",
        "ax.fill([theta for theta in range(N)], [0 for _ in range(N)], 'white')\n",
        "\n",
        "# Draw each category\n",
        "for d, color in zip(data.values(), colors):\n",
        "    ax.plot(theta, d, color=color, linewidth=1, linestyle='solid')\n",
        "    ax.fill(theta, d, facecolor=color, alpha=0.25)\n",
        "\n",
        "# Add labels\n",
        "ax.set_xticks(theta)\n",
        "ax.set_xticklabels(categories)\n",
        "\n",
        "# Add legend\n",
        "ax.legend(loc='upper right', bbox_to_anchor=(1.1, 1.1))\n",
        "\n",
        "plt.show()\n"
      ]
    },
    {
      "cell_type": "code",
      "execution_count": null,
      "metadata": {
        "id": "ECPaof6Pj44B"
      },
      "outputs": [],
      "source": [
        "import matplotlib.pyplot as plt\n",
        "\n",
        "# Define colors\n",
        "colors = plt.cm.rainbow(np.linspace(0, 1, len(data)))\n"
      ]
    },
    {
      "cell_type": "code",
      "execution_count": null,
      "metadata": {
        "id": "ny1_SVXukW10"
      },
      "outputs": [],
      "source": [
        "import pandas as pd\n",
        "import matplotlib.pyplot as plt\n",
        "import numpy as np\n",
        "from matplotlib.patches import Circle, RegularPolygon\n",
        "from pandas.plotting import register_matplotlib_converters\n",
        "import math\n",
        "\n",
        "register_matplotlib_converters()\n",
        "\n",
        "# Assuming df_scores is the DataFrame containing the scores\n",
        "categories=list(df_scores)[1:]\n",
        "N = len(categories)\n",
        "\n",
        "# Prepare data\n",
        "data = df_scores.set_index('Classifier').T.to_dict('list')\n",
        "data = {k: v for k, v in data.items()}\n",
        "\n",
        "# Define colors\n",
        "colors = plt.cm.rainbow(np.linspace(0, 1, len(data)))\n",
        "\n",
        "# Create the radar chart\n",
        "fig = plt.figure(figsize=(10, 10))\n",
        "ax = fig.add_subplot(111, polar=True)\n",
        "ax.set_rlabel_position(0)\n",
        "ax.set_theta_offset(math.pi / 2)\n",
        "ax.set_theta_direction(-1)\n",
        "ax.set_ylim(bottom=0, top=max(df_scores.loc[:, categories].max()))\n",
        "\n",
        "# Draw one axe\n",
        "ax.plot([theta for theta in range(N)], [0 for _ in range(N)],\n",
        "        linestyle='--', label='Average')\n",
        "ax.fill([theta for theta in range(N)], [0 for _ in range(N)], 'white')\n",
        "\n",
        "# Draw each category\n",
        "for d, color in zip(data.values(), colors):\n",
        "    ax.plot(theta, d, color=color, linewidth=1, linestyle='solid')\n",
        "    ax.fill(theta, d, facecolor=color, alpha=0.25)\n",
        "\n",
        "# Add labels\n",
        "ax.set_xticks(theta)\n",
        "ax.set_xticklabels(categories)\n",
        "\n",
        "# Add legend\n",
        "ax.legend(loc='upper right', bbox_to_anchor=(1.1, 1.1))\n",
        "\n",
        "plt.show()\n"
      ]
    },
    {
      "cell_type": "code",
      "execution_count": null,
      "metadata": {
        "id": "OpdvoN0aaFtS"
      },
      "outputs": [],
      "source": [
        "from sklearn.ensemble import RandomForestClassifier, AdaBoostClassifier, BaggingClassifier, GradientBoostingClassifier\n",
        "from sklearn.tree import DecisionTreeClassifier\n",
        "from sklearn.neighbors import KNeighborsClassifier\n",
        "\n",
        "# Initialize the models\n",
        "rf_model = RandomForestClassifier()\n",
        "gb_model = GradientBoostingClassifier()\n",
        "bg_model = BaggingClassifier()\n",
        "ada_boost_model = AdaBoostClassifier()\n",
        "decision_tree_model = DecisionTreeClassifier()\n",
        "knn_model = KNeighborsClassifier(n_neighbors = 7)\n",
        "\n",
        "# Train the models\n",
        "rf_model.fit(X_train, y_train)\n",
        "gb_model.fit(X_train, y_train)\n",
        "bg_model.fit(X_train, y_train)\n",
        "ada_boost_model.fit(X_train, y_train)\n",
        "decision_tree_model.fit(X_train, y_train)\n",
        "knn_model.fit(X_train, y_train)\n",
        "\n",
        "# List of trained models\n",
        "models = [rf_model, gb_model, bg_model, ada_boost_model, decision_tree_model, knn_model]\n",
        "\n",
        "# List of model names\n",
        "model_names = ['Random Forest', 'Gradient Boosting', 'Bagging', 'AdaBoost', 'Decision Tree', 'KNN']\n"
      ]
    },
    {
      "cell_type": "code",
      "execution_count": null,
      "metadata": {
        "id": "s735xFv3aiAE"
      },
      "outputs": [],
      "source": [
        "import pickle\n",
        "\n",
        "# Create pickle files for each model\n",
        "for i in range(len(models)):\n",
        "    with open(f'{model_names[i]}.pkl', 'wb') as file:\n",
        "        pickle.dump(models[i], file)\n"
      ]
    },
    {
      "cell_type": "code",
      "execution_count": null,
      "metadata": {
        "id": "aKU28LeukaBf"
      },
      "outputs": [],
      "source": [
        "import pickle\n",
        "\n",
        "# List of trained models\n",
        "models = [rf_model, gb_model, bg_model, ada_boost_model, decision_tree_model, knn_model]\n",
        "\n",
        "# List of model names\n",
        "model_names = ['RandomForest', 'GradientBoosting', 'Bagging', 'AdaBoost', 'DecisionTree', 'KNN']\n",
        "\n",
        "# Loop through each model and save it as a pickle file\n",
        "for i in range(len(models)):\n",
        "    with open(f'{model_names[i]}_model.pkl', 'wb') as file:\n",
        "        pickle.dump(models[i], file)"
      ]
    },
    {
      "cell_type": "code",
      "source": [],
      "metadata": {
        "id": "UOXXZblWvECT"
      },
      "execution_count": null,
      "outputs": []
    }
  ],
  "metadata": {
    "colab": {
      "provenance": []
    },
    "kernelspec": {
      "display_name": "Python 3",
      "name": "python3"
    },
    "language_info": {
      "name": "python"
    }
  },
  "nbformat": 4,
  "nbformat_minor": 0
}